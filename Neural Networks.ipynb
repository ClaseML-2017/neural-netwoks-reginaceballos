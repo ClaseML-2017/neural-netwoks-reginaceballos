{
 "cells": [
  {
   "cell_type": "markdown",
   "metadata": {},
   "source": [
    "# Neural Networks\n",
    "Regina Ceballos\n",
    "\n",
    "147663"
   ]
  },
  {
   "cell_type": "code",
   "execution_count": 1,
   "metadata": {},
   "outputs": [],
   "source": [
    "import tensorflow as tf\n",
    "import matplotlib.pyplot as plt\n",
    "import numpy as np\n",
    "from sklearn.model_selection import train_test_split\n",
    "from sklearn import linear_model\n",
    "from sklearn import preprocessing\n",
    "from sklearn.metrics import confusion_matrix"
   ]
  },
  {
   "cell_type": "markdown",
   "metadata": {},
   "source": [
    "# i. Logistic Regression"
   ]
  },
  {
   "cell_type": "code",
   "execution_count": 2,
   "metadata": {},
   "outputs": [],
   "source": [
    "x = tf.placeholder(tf.float32, [None, 2])\n",
    "y = tf.placeholder(tf.float32, [None, 1])\n",
    "W = tf.Variable(tf.zeros([2, 1]))\n",
    "b = tf.Variable(tf.zeros([1]))"
   ]
  },
  {
   "cell_type": "code",
   "execution_count": 3,
   "metadata": {},
   "outputs": [],
   "source": [
    "yhat = tf.nn.sigmoid(tf.matmul(x, W) + b)\n",
    "ecm = tf.reduce_mean(tf.reduce_sum(tf.square(y - yhat)))\n",
    "train_step = tf.train.GradientDescentOptimizer(0.01).minimize(ecm)"
   ]
  },
  {
   "cell_type": "markdown",
   "metadata": {},
   "source": [
    "## AND Function"
   ]
  },
  {
   "cell_type": "code",
   "execution_count": 4,
   "metadata": {},
   "outputs": [],
   "source": [
    "X_AND = np.asarray([[0,0], [0,1], [1,0], [1,1]])\n",
    "Y_AND = np.asarray([[0], [0], [0], [1]])"
   ]
  },
  {
   "cell_type": "markdown",
   "metadata": {},
   "source": [
    "Training with AND data"
   ]
  },
  {
   "cell_type": "code",
   "execution_count": 5,
   "metadata": {},
   "outputs": [],
   "source": [
    "sess = tf.InteractiveSession()\n",
    "tf.global_variables_initializer().run()\n",
    "for i in range(5000):\n",
    "    sess.run(train_step, feed_dict={x: X_AND, y: Y_AND})"
   ]
  },
  {
   "cell_type": "code",
   "execution_count": 6,
   "metadata": {},
   "outputs": [
    {
     "name": "stdout",
     "output_type": "stream",
     "text": [
      "[[ 0.03704256]]\n",
      "[[ 2.61000848]\n",
      " [ 2.61000848]]\n"
     ]
    }
   ],
   "source": [
    "print(sess.run(yhat, feed_dict={x:[[0.2,0.1]]}))\n",
    "print(sess.run(W, feed_dict={x: X_AND, y: Y_AND}))"
   ]
  },
  {
   "cell_type": "code",
   "execution_count": 7,
   "metadata": {},
   "outputs": [
    {
     "name": "stdout",
     "output_type": "stream",
     "text": [
      "1.0\n"
     ]
    }
   ],
   "source": [
    "correct_prediction = tf.equal(tf.argmax(yhat, 1), tf.argmax(y, 1))\n",
    "accuracy = tf.reduce_mean(tf.cast(correct_prediction, tf.float32))\n",
    "print(sess.run(accuracy, feed_dict={x: X_AND, y: Y_AND}))"
   ]
  },
  {
   "cell_type": "markdown",
   "metadata": {},
   "source": [
    "Decision boundary"
   ]
  },
  {
   "cell_type": "code",
   "execution_count": 8,
   "metadata": {},
   "outputs": [],
   "source": [
    "w = [sess.run(b, feed_dict={x: X_AND, y: Y_AND})[0]] +[i[0] for i in sess.run(W, feed_dict={x: X_AND, y: Y_AND})]"
   ]
  },
  {
   "cell_type": "code",
   "execution_count": 9,
   "metadata": {},
   "outputs": [],
   "source": [
    "m = ((w[0]/w[2]))/((-w[0]/w[1]))\n",
    "b = -w[0]/w[2]\n",
    "x0 = -0.5\n",
    "y0 = m*x0 +b\n",
    "x1 = 1.5\n",
    "y1 = m*x1 +b"
   ]
  },
  {
   "cell_type": "code",
   "execution_count": 10,
   "metadata": {
    "scrolled": true
   },
   "outputs": [
    {
     "data": {
      "image/png": "[encoded data removed]",
      "text/plain": [
       "<matplotlib.figure.Figure at 0x1146227d0>"
      ]
     },
     "metadata": {},
     "output_type": "display_data"
    }
   ],
   "source": [
    "plt.scatter(X_AND[:,0], X_AND[:,1], c=['red' if i==1 else 'blue' for i in Y_AND])\n",
    "plt.plot([x0, x1], [y0, y1], color='red')\n",
    "plt.show()"
   ]
  },
  {
   "cell_type": "markdown",
   "metadata": {},
   "source": [
    "## XOR Function"
   ]
  },
  {
   "cell_type": "code",
   "execution_count": 11,
   "metadata": {},
   "outputs": [],
   "source": [
    "X_XOR = np.asarray([[0,0], [0,1], [1,0], [1,1]])\n",
    "Y_XOR = np.asarray([[0], [1], [1], [0]])"
   ]
  },
  {
   "cell_type": "markdown",
   "metadata": {},
   "source": [
    "Training with XOR data"
   ]
  },
  {
   "cell_type": "code",
   "execution_count": 12,
   "metadata": {},
   "outputs": [],
   "source": [
    "sess.run(tf.global_variables_initializer())\n",
    "for i in range(10000):\n",
    "    sess.run(train_step, feed_dict={x: X_XOR, y: Y_XOR})     "
   ]
  },
  {
   "cell_type": "code",
   "execution_count": 13,
   "metadata": {},
   "outputs": [
    {
     "name": "stdout",
     "output_type": "stream",
     "text": [
      "[[ 0.5]]\n",
      "[[ 0.]\n",
      " [ 0.]]\n"
     ]
    }
   ],
   "source": [
    "print(sess.run(yhat, feed_dict={x:[[0.2,0.1]]}))\n",
    "print(sess.run(W, feed_dict={x: X_XOR, y: Y_XOR}))"
   ]
  },
  {
   "cell_type": "code",
   "execution_count": 14,
   "metadata": {},
   "outputs": [
    {
     "name": "stdout",
     "output_type": "stream",
     "text": [
      "1.0\n"
     ]
    }
   ],
   "source": [
    "correct_prediction = tf.equal(tf.argmax(yhat, 1), tf.argmax(y, 1))\n",
    "accuracy = tf.reduce_mean(tf.cast(correct_prediction, tf.float32))\n",
    "print(sess.run(accuracy, feed_dict={x: X_XOR, y: Y_XOR}))"
   ]
  },
  {
   "cell_type": "markdown",
   "metadata": {},
   "source": [
    "Decision boundary"
   ]
  },
  {
   "cell_type": "code",
   "execution_count": 18,
   "metadata": {},
   "outputs": [],
   "source": [
    "w = [1.5482494] + [i[0] for i in sess.run(W, feed_dict={x: X_XOR, y: Y_XOR})]"
   ]
  },
  {
   "cell_type": "code",
   "execution_count": 19,
   "metadata": {},
   "outputs": [
    {
     "name": "stderr",
     "output_type": "stream",
     "text": [
      "/Library/Frameworks/Python.framework/Versions/2.7/lib/python2.7/site-packages/ipykernel_launcher.py:1: RuntimeWarning: divide by zero encountered in divide\n",
      "  \"\"\"Entry point for launching an IPython kernel.\n",
      "/Library/Frameworks/Python.framework/Versions/2.7/lib/python2.7/site-packages/ipykernel_launcher.py:1: RuntimeWarning: invalid value encountered in double_scalars\n",
      "  \"\"\"Entry point for launching an IPython kernel.\n",
      "/Library/Frameworks/Python.framework/Versions/2.7/lib/python2.7/site-packages/ipykernel_launcher.py:2: RuntimeWarning: divide by zero encountered in divide\n",
      "  \n"
     ]
    }
   ],
   "source": [
    "m = ((w[0]/w[2]))/((-w[0]/w[1]))\n",
    "b = -w[0]/w[2]\n",
    "x0 = -0.5\n",
    "y0 = m*x0 +b\n",
    "x1 = 1.5\n",
    "y1 = m*x1 +b"
   ]
  },
  {
   "cell_type": "code",
   "execution_count": 20,
   "metadata": {
    "scrolled": false
   },
   "outputs": [
    {
     "data": {
      "image/png": "[encoded data removed]",
      "text/plain": [
       "<matplotlib.figure.Figure at 0x114e5d110>"
      ]
     },
     "metadata": {},
     "output_type": "display_data"
    }
   ],
   "source": [
    "plt.scatter(X_XOR[:,0],X_XOR[:,1],c=['red' if i==1 else 'blue' for i in Y_XOR])\n",
    "plt.plot([x0, x1],[y0, y1],color='red')\n",
    "plt.show()"
   ]
  },
  {
   "cell_type": "markdown",
   "metadata": {},
   "source": [
    "# ii. ANN for XOR Function"
   ]
  },
  {
   "cell_type": "code",
   "execution_count": 21,
   "metadata": {},
   "outputs": [],
   "source": [
    "x = tf.placeholder(tf.float32, [None, 2])\n",
    "y = tf.placeholder(tf.float32, [None, 1])\n",
    "W1 = tf.Variable(tf.random_uniform([2, 2], -1, 1))\n",
    "b1 = tf.Variable(tf.zeros([2]))\n",
    "W2 = tf.Variable(tf.random_uniform([2, 1], -1, 1))\n",
    "b2 = tf.Variable(tf.zeros([1]))"
   ]
  },
  {
   "cell_type": "code",
   "execution_count": 22,
   "metadata": {},
   "outputs": [],
   "source": [
    "h = tf.nn.sigmoid(tf.matmul(x, W1) + b1)\n",
    "yhat = tf.nn.sigmoid(tf.matmul(h, W2) + b2)\n",
    "ecm = tf.reduce_mean(tf.reduce_sum(tf.square(y - yhat)))\n",
    "train_step = tf.train.GradientDescentOptimizer(0.01).minimize(ecm)"
   ]
  },
  {
   "cell_type": "code",
   "execution_count": 23,
   "metadata": {},
   "outputs": [],
   "source": [
    "X = np.asarray([[0,0], [0,1], [1,0], [1,1]])\n",
    "Y = np.asarray([[0], [1], [1], [0]])"
   ]
  },
  {
   "cell_type": "code",
   "execution_count": 24,
   "metadata": {
    "scrolled": false
   },
   "outputs": [],
   "source": [
    "sess = tf.InteractiveSession()\n",
    "tf.global_variables_initializer().run()\n",
    "for k in range(100000):\n",
    "    sess.run(train_step, feed_dict={x: X, y: Y})"
   ]
  },
  {
   "cell_type": "code",
   "execution_count": 25,
   "metadata": {},
   "outputs": [
    {
     "name": "stdout",
     "output_type": "stream",
     "text": [
      "1.0\n"
     ]
    }
   ],
   "source": [
    "correct_prediction = tf.equal(tf.round(yhat), y)\n",
    "accuracy = tf.reduce_mean(tf.cast(correct_prediction, tf.float32))\n",
    "print(sess.run(accuracy, feed_dict={x: X, y: Y}))"
   ]
  },
  {
   "cell_type": "code",
   "execution_count": 26,
   "metadata": {},
   "outputs": [
    {
     "name": "stdout",
     "output_type": "stream",
     "text": [
      "yhat  [[ 0.03959751]\n",
      " [ 0.95581651]\n",
      " [ 0.95587063]\n",
      " [ 0.03557187]]\n",
      "W1  [[-6.07933474  6.21867132]\n",
      " [ 6.26939154 -6.01304102]]\n",
      "b1  [ 3.09018826  3.05077887]\n",
      "W2  [[-7.25490522]\n",
      " [-7.26309443]]\n",
      "b2  [ 10.68555069]\n",
      "Error  0.0067329\n"
     ]
    }
   ],
   "source": [
    "yhat_ = [sess.run(yhat, feed_dict={x: X, y: Y})][0]\n",
    "W1_ = [sess.run(W1)][0]\n",
    "b1_ = [sess.run(b1)][0]\n",
    "W2_ = [sess.run(W2)][0]\n",
    "b2_ = [sess.run(b2)][0]\n",
    "err_ = [sess.run(ecm, feed_dict={x: X, y: Y})][0]\n",
    "print 'yhat ', yhat_\n",
    "print 'W1 ', W1_\n",
    "print 'b1 ', b1_\n",
    "print 'W2 ', W2_\n",
    "print 'b2 ', b2_\n",
    "print 'Error ', err_"
   ]
  },
  {
   "cell_type": "code",
   "execution_count": 27,
   "metadata": {},
   "outputs": [
    {
     "data": {
      "image/png": "[encoded data removed]",
      "text/plain": [
       "<matplotlib.figure.Figure at 0x1151c9f90>"
      ]
     },
     "metadata": {},
     "output_type": "display_data"
    }
   ],
   "source": [
    "xs = np.linspace(-1, 2)\n",
    "ys = np.linspace(-1, 2)\n",
    "pred_classes = []\n",
    "for i in xs:\n",
    "    for j in ys:\n",
    "        pred_class = sess.run(yhat, feed_dict={x: [[i, j]]})\n",
    "        pred_classes.append((i, j, np.around(pred_class)))\n",
    "xs_p, ys_p = [], []\n",
    "xs_n, ys_n = [], []\n",
    "for i, j, c in pred_classes:\n",
    "    if c == 0.:\n",
    "        xs_n.append(i)\n",
    "        ys_n.append(j)\n",
    "    else:\n",
    "        xs_p.append(i)\n",
    "        ys_p.append(j)\n",
    "plt.plot(xs_p, ys_p, 'ro', xs_n, ys_n, 'bo', X[:,0], X[:,1], 'ko')\n",
    "plt.show()"
   ]
  },
  {
   "cell_type": "markdown",
   "metadata": {},
   "source": [
    "# ii. ANN for points inside a circle"
   ]
  },
  {
   "cell_type": "code",
   "execution_count": 28,
   "metadata": {},
   "outputs": [],
   "source": [
    "sess = tf.InteractiveSession()\n",
    "tf.global_variables_initializer().run()\n",
    "x = tf.placeholder(tf.float32, [None, 2])\n",
    "y = tf.placeholder(tf.float32, [None, 1])\n",
    "W1 = tf.Variable(tf.random_uniform([2, 3], -1, 1))\n",
    "b1 = tf.Variable(tf.zeros([1, 3]))\n",
    "W2 = tf.Variable(tf.random_uniform([3, 1], -1, 1))\n",
    "b2 = tf.Variable(tf.zeros([1, 1]))"
   ]
  },
  {
   "cell_type": "code",
   "execution_count": 29,
   "metadata": {},
   "outputs": [],
   "source": [
    "h = tf.nn.sigmoid(tf.matmul(x, W1) + b1)\n",
    "yhat = tf.nn.sigmoid(tf.matmul(h, W2) + b2)\n",
    "ecm = tf.reduce_mean(tf.reduce_sum(tf.square(y - yhat)))\n",
    "train_step = tf.train.GradientDescentOptimizer(0.03).minimize(ecm)"
   ]
  },
  {
   "cell_type": "code",
   "execution_count": 30,
   "metadata": {},
   "outputs": [],
   "source": [
    "n = 1000\n",
    "X1 = np.resize(np.random.uniform(-2, 2, n), (n,1))\n",
    "X2 = np.resize(np.random.uniform(-2, 2, n), (n,1))"
   ]
  },
  {
   "cell_type": "code",
   "execution_count": 31,
   "metadata": {},
   "outputs": [],
   "source": [
    "def circ(X1, X2):\n",
    "    if X1*X1 + X2*X2 < 1:\n",
    "        return 1\n",
    "    else:\n",
    "        return 0"
   ]
  },
  {
   "cell_type": "code",
   "execution_count": 32,
   "metadata": {},
   "outputs": [],
   "source": [
    "X = np.concatenate((X1, X2), axis = 1)\n",
    "Y = np.resize([circ(X1[i], X2[i]) for i in range(len(X1))], (n,1))"
   ]
  },
  {
   "cell_type": "code",
   "execution_count": 33,
   "metadata": {
    "scrolled": false
   },
   "outputs": [],
   "source": [
    "sess = tf.InteractiveSession()\n",
    "tf.global_variables_initializer().run()\n",
    "for k in range(10000):\n",
    "    sess.run(train_step, feed_dict={x: X, y: Y})"
   ]
  },
  {
   "cell_type": "code",
   "execution_count": 34,
   "metadata": {},
   "outputs": [
    {
     "name": "stdout",
     "output_type": "stream",
     "text": [
      "0.981\n"
     ]
    }
   ],
   "source": [
    "correct_prediction = tf.equal(tf.round(yhat), y)\n",
    "accuracy = tf.reduce_mean(tf.cast(correct_prediction, tf.float32))\n",
    "print(sess.run(accuracy, feed_dict={x: X, y: Y}))"
   ]
  },
  {
   "cell_type": "code",
   "execution_count": 35,
   "metadata": {},
   "outputs": [
    {
     "data": {
      "image/png": "[encoded data removed]",
      "text/plain": [
       "<matplotlib.figure.Figure at 0x114ec9d90>"
      ]
     },
     "metadata": {},
     "output_type": "display_data"
    }
   ],
   "source": [
    "xs = np.linspace(-2, 2)\n",
    "ys = np.linspace(-2, 2)\n",
    "pred_classes = []\n",
    "for i in xs:\n",
    "    for j in ys:\n",
    "        pred_class = sess.run(yhat, feed_dict={x: [[i, j]]})\n",
    "        pred_classes.append((i, j, np.around(pred_class)))\n",
    "xs_p, ys_p = [], []\n",
    "xs_n, ys_n = [], []\n",
    "for i, j, c in pred_classes:\n",
    "    if c == 0.:\n",
    "        xs_n.append(i)\n",
    "        ys_n.append(j)\n",
    "    else:\n",
    "        xs_p.append(i)\n",
    "        ys_p.append(j)\n",
    "plt.plot(xs_p, ys_p, 'ro', xs_n, ys_n, 'bo')\n",
    "plt.show()"
   ]
  },
  {
   "cell_type": "code",
   "execution_count": null,
   "metadata": {},
   "outputs": [],
   "source": []
  },
  {
   "cell_type": "code",
   "execution_count": null,
   "metadata": {},
   "outputs": [],
   "source": []
  }
 ],
 "metadata": {
  "kernelspec": {
   "display_name": "Python 2",
   "language": "python",
   "name": "python2"
  },
  "language_info": {
   "codemirror_mode": {
    "name": "ipython",
    "version": 2
   },
   "file_extension": ".py",
   "mimetype": "text/x-python",
   "name": "python",
   "nbconvert_exporter": "python",
   "pygments_lexer": "ipython2",
   "version": "2.7.14"
  }
 },
 "nbformat": 4,
 "nbformat_minor": 2
}
